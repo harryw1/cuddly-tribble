{
 "cells": [
  {
   "cell_type": "code",
   "execution_count": 2,
   "metadata": {},
   "outputs": [],
   "source": [
    "import numpy as np\n",
    "import pandas as pd"
   ]
  },
  {
   "cell_type": "markdown",
   "metadata": {},
   "source": [
    "# Pandas and Numpy Introduction\n",
    "\n",
    "Finished through the introduction to Python, logic, and programming! Now, we're getting into the Pandas and Numpy package world.\n",
    "\n",
    "## Numpy and Pandas\n",
    "\n",
    "Numpy and Pandas are the two biggest packages out there for data science.\n",
    "\n",
    "### Numpy Arrays"
   ]
  },
  {
   "cell_type": "code",
   "execution_count": 1,
   "metadata": {},
   "outputs": [],
   "source": [
    "list1 = [1,2,3,4]"
   ]
  },
  {
   "cell_type": "code",
   "execution_count": 3,
   "metadata": {},
   "outputs": [
    {
     "name": "stdout",
     "output_type": "stream",
     "text": [
      "[1 2 3 4]\n"
     ]
    }
   ],
   "source": [
    "array1 = np.array(list1)\n",
    "print(array1)"
   ]
  },
  {
   "cell_type": "markdown",
   "metadata": {},
   "source": [
    "Somtimes we want a two dimensional array:"
   ]
  },
  {
   "cell_type": "code",
   "execution_count": 4,
   "metadata": {},
   "outputs": [
    {
     "name": "stdout",
     "output_type": "stream",
     "text": [
      "[[1 2 3]\n",
      " [4 5 6]]\n"
     ]
    }
   ],
   "source": [
    "list2 = [[1,2,3], [4,5,6]]\n",
    "array2 = np.array(list2)\n",
    "print(array2)"
   ]
  },
  {
   "cell_type": "markdown",
   "metadata": {},
   "source": [
    "NumPy makes it easy to perform all kinds of operations on these arrays:"
   ]
  },
  {
   "cell_type": "code",
   "execution_count": 5,
   "metadata": {},
   "outputs": [
    {
     "name": "stdout",
     "output_type": "stream",
     "text": [
      "[3 6 1 4]\n"
     ]
    }
   ],
   "source": [
    "toyPrices = np.array([5,8,3,6])\n",
    "print(toyPrices - 2)"
   ]
  },
  {
   "cell_type": "markdown",
   "metadata": {},
   "source": [
    "### Pandas `series`\n",
    "\n",
    "This is a data structure that is commonly used in Pandas and has some special considerations found at [the API reference](https://pandas.pydata.org/docs/reference/api/pandas.Series.html)."
   ]
  },
  {
   "cell_type": "code",
   "execution_count": 6,
   "metadata": {},
   "outputs": [
    {
     "name": "stdout",
     "output_type": "stream",
     "text": [
      "0    13\n",
      "1    25\n",
      "2    19\n",
      "dtype: int64\n"
     ]
    }
   ],
   "source": [
    "# Create a Series using a NumPy array of ages with the default numerical indices\n",
    "ages = np.array([13,25,19])\n",
    "series1 = pd.Series(ages)\n",
    "print(series1)"
   ]
  }
 ],
 "metadata": {
  "kernelspec": {
   "display_name": ".venv",
   "language": "python",
   "name": "python3"
  },
  "language_info": {
   "codemirror_mode": {
    "name": "ipython",
    "version": 3
   },
   "file_extension": ".py",
   "mimetype": "text/x-python",
   "name": "python",
   "nbconvert_exporter": "python",
   "pygments_lexer": "ipython3",
   "version": "3.12.7"
  }
 },
 "nbformat": 4,
 "nbformat_minor": 2
}
